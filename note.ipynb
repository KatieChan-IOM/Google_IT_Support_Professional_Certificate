{
 "cells": [
  {
   "cell_type": "code",
   "execution_count": 6,
   "metadata": {},
   "outputs": [],
   "source": [
    "def shorten_ipv6(ipv6_long):\n",
    "    hextets = ['%x' % int(h, 16) for h in ipv6_long.split(':')]\n",
    "    best_doublecolon_start = -1\n",
    "    best_doublecolon_len = 0\n",
    "    doublecolon_start = -1\n",
    "    doublecolon_len = 0\n",
    "    for index, hextet in enumerate(hextets):\n",
    "        if hextet == '0':\n",
    "            doublecolon_len += 1\n",
    "            if doublecolon_start == -1:\n",
    "                # Start of a sequence of zeros.\n",
    "                doublecolon_start = index\n",
    "            if doublecolon_len > best_doublecolon_len:\n",
    "                # This is the longest sequence of zeros so far.\n",
    "                best_doublecolon_len = doublecolon_len\n",
    "                best_doublecolon_start = doublecolon_start\n",
    "        else:\n",
    "            doublecolon_len = 0\n",
    "            doublecolon_start = -1\n",
    "    if best_doublecolon_len > 1:\n",
    "        best_doublecolon_end = (best_doublecolon_start +\n",
    "                                best_doublecolon_len)\n",
    "        # For zeros at the end of the address.\n",
    "        if best_doublecolon_end == len(hextets):\n",
    "            hextets += ['']\n",
    "        hextets[best_doublecolon_start:best_doublecolon_end] = ['']\n",
    "        # For zeros at the beginning of the address.\n",
    "        if best_doublecolon_start == 0:\n",
    "            hextets = [''] + hextets\n",
    "    return ':'.join(hextets)"
   ]
  },
  {
   "cell_type": "code",
   "execution_count": 23,
   "metadata": {},
   "outputs": [
    {
     "data": {
      "text/plain": [
       "'8bfa:99f0:d4c5:b8c:f6f:4df:2804:283d'"
      ]
     },
     "execution_count": 23,
     "metadata": {},
     "output_type": "execute_result"
    }
   ],
   "source": [
    "shorten_ipv6('8bfa:99f0:d4c5:0b8c:0f6f:04df:2804:283d')"
   ]
  }
 ],
 "metadata": {
  "kernelspec": {
   "display_name": "Python 3",
   "language": "python",
   "name": "python3"
  },
  "language_info": {
   "codemirror_mode": {
    "name": "ipython",
    "version": 3
   },
   "file_extension": ".py",
   "mimetype": "text/x-python",
   "name": "python",
   "nbconvert_exporter": "python",
   "pygments_lexer": "ipython3",
   "version": "3.10.6"
  },
  "orig_nbformat": 4
 },
 "nbformat": 4,
 "nbformat_minor": 2
}
